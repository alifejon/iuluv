{
 "cells": [
  {
   "cell_type": "code",
   "execution_count": 1,
   "metadata": {
    "collapsed": true
   },
   "outputs": [],
   "source": [
    "from music21 import *"
   ]
  },
  {
   "cell_type": "code",
   "execution_count": 16,
   "metadata": {},
   "outputs": [
    {
     "data": {
      "text/plain": [
       "<module 'music21.note' from '/Users/kaka/music21-env/lib/python3.6/site-packages/music21/note.py'>"
      ]
     },
     "execution_count": 16,
     "metadata": {},
     "output_type": "execute_result"
    }
   ],
   "source": [
    "note"
   ]
  },
  {
   "cell_type": "code",
   "execution_count": 17,
   "metadata": {
    "collapsed": true
   },
   "outputs": [],
   "source": [
    "f = note.Note(\"F5\")"
   ]
  },
  {
   "cell_type": "code",
   "execution_count": 4,
   "metadata": {},
   "outputs": [
    {
     "name": "stdout",
     "output_type": "stream",
     "text": [
      "F\n",
      "5\n",
      "F5\n"
     ]
    }
   ],
   "source": [
    "print(f.name)\n",
    "print(f.octave)\n",
    "print(f.pitch)"
   ]
  },
  {
   "cell_type": "code",
   "execution_count": 20,
   "metadata": {},
   "outputs": [
    {
     "data": {
      "text/plain": [
       "['_DOC_ATTR',\n",
       " '_DOC_ORDER',\n",
       " '__class__',\n",
       " '__deepcopy__',\n",
       " '__delattr__',\n",
       " '__dict__',\n",
       " '__dir__',\n",
       " '__doc__',\n",
       " '__eq__',\n",
       " '__format__',\n",
       " '__ge__',\n",
       " '__getattribute__',\n",
       " '__getstate__',\n",
       " '__gt__',\n",
       " '__hash__',\n",
       " '__init__',\n",
       " '__init_subclass__',\n",
       " '__le__',\n",
       " '__lt__',\n",
       " '__module__',\n",
       " '__ne__',\n",
       " '__new__',\n",
       " '__reduce__',\n",
       " '__reduce_ex__',\n",
       " '__repr__',\n",
       " '__setattr__',\n",
       " '__setstate__',\n",
       " '__sizeof__',\n",
       " '__str__',\n",
       " '__subclasshook__',\n",
       " '__weakref__',\n",
       " '_activeSite',\n",
       " '_activeSiteStoredOffset',\n",
       " '_adjacencySearch',\n",
       " '_classListCacheDict',\n",
       " '_classListFullyQualifiedCacheDict',\n",
       " '_classSetCacheDict',\n",
       " '_deepcopySubclassable',\n",
       " '_derivation',\n",
       " '_duration',\n",
       " '_editorial',\n",
       " '_getAccidental',\n",
       " '_getActiveSite',\n",
       " '_getColor',\n",
       " '_getDerivation',\n",
       " '_getDuration',\n",
       " '_getEditorial',\n",
       " '_getFrequency',\n",
       " '_getLyric',\n",
       " '_getMeasureOffset',\n",
       " '_getMeasureOffsetOrMeterModulusOffset',\n",
       " '_getMicrotone',\n",
       " '_getMidi',\n",
       " '_getName',\n",
       " '_getNameWithOctave',\n",
       " '_getNotehead',\n",
       " '_getNoteheadFill',\n",
       " '_getNoteheadParenthesis',\n",
       " '_getOctave',\n",
       " '_getOffset',\n",
       " '_getPitchClass',\n",
       " '_getPitchClassString',\n",
       " '_getPitches',\n",
       " '_getPriority',\n",
       " '_getPs',\n",
       " '_getQuarterLength',\n",
       " '_getSeconds',\n",
       " '_getStemDirection',\n",
       " '_getStep',\n",
       " '_getTimeSignatureForBeat',\n",
       " '_getVolume',\n",
       " '_naiveOffset',\n",
       " '_notehead',\n",
       " '_noteheadFill',\n",
       " '_noteheadParenthesis',\n",
       " '_priority',\n",
       " '_reprText',\n",
       " '_reprTextLine',\n",
       " '_setAccidental',\n",
       " '_setActiveSite',\n",
       " '_setColor',\n",
       " '_setDerivation',\n",
       " '_setDuration',\n",
       " '_setEditorial',\n",
       " '_setFrequency',\n",
       " '_setLyric',\n",
       " '_setMicrotone',\n",
       " '_setMidi',\n",
       " '_setName',\n",
       " '_setNameWithOctave',\n",
       " '_setNotehead',\n",
       " '_setNoteheadFill',\n",
       " '_setNoteheadParenthesis',\n",
       " '_setOctave',\n",
       " '_setOffset',\n",
       " '_setPitchClass',\n",
       " '_setPitchClassString',\n",
       " '_setPitches',\n",
       " '_setPriority',\n",
       " '_setPs',\n",
       " '_setQuarterLength',\n",
       " '_setSeconds',\n",
       " '_setStemDirection',\n",
       " '_setStep',\n",
       " '_setVolume',\n",
       " '_stemDirection',\n",
       " '_volume',\n",
       " 'accidental',\n",
       " 'activeSite',\n",
       " 'addLyric',\n",
       " 'articulations',\n",
       " 'augmentOrDiminish',\n",
       " 'beams',\n",
       " 'beat',\n",
       " 'beatDuration',\n",
       " 'beatStr',\n",
       " 'beatStrength',\n",
       " 'classSet',\n",
       " 'classSortOrder',\n",
       " 'classes',\n",
       " 'color',\n",
       " 'containerHierarchy',\n",
       " 'contextSites',\n",
       " 'derivation',\n",
       " 'diatonicNoteNum',\n",
       " 'duration',\n",
       " 'editorial',\n",
       " 'expressions',\n",
       " 'frequency',\n",
       " 'fullName',\n",
       " 'getAllContextsByClass',\n",
       " 'getContextByClass',\n",
       " 'getGrace',\n",
       " 'getOffsetBySite',\n",
       " 'getOffsetInHierarchy',\n",
       " 'getSpannerSites',\n",
       " 'groups',\n",
       " 'hasLyrics',\n",
       " 'hideObjectOnPrint',\n",
       " 'id',\n",
       " 'informSites',\n",
       " 'insertLyric',\n",
       " 'isChord',\n",
       " 'isClassOrSubclass',\n",
       " 'isNote',\n",
       " 'isRest',\n",
       " 'isStream',\n",
       " 'linkage',\n",
       " 'lyric',\n",
       " 'lyrics',\n",
       " 'measureNumber',\n",
       " 'mergeAttributes',\n",
       " 'microtone',\n",
       " 'midi',\n",
       " 'name',\n",
       " 'nameWithOctave',\n",
       " 'next',\n",
       " 'notehead',\n",
       " 'noteheadFill',\n",
       " 'noteheadParenthesis',\n",
       " 'octave',\n",
       " 'offset',\n",
       " 'pitch',\n",
       " 'pitchClass',\n",
       " 'pitchClassString',\n",
       " 'pitches',\n",
       " 'previous',\n",
       " 'priority',\n",
       " 'ps',\n",
       " 'purgeLocations',\n",
       " 'purgeOrphans',\n",
       " 'quarterLength',\n",
       " 'seconds',\n",
       " 'setOffsetBySite',\n",
       " 'show',\n",
       " 'sites',\n",
       " 'sortTuple',\n",
       " 'splitAtDurations',\n",
       " 'splitAtQuarterLength',\n",
       " 'splitByQuarterLengths',\n",
       " 'stemDirection',\n",
       " 'step',\n",
       " 'tie',\n",
       " 'transpose',\n",
       " 'volume',\n",
       " 'write',\n",
       " 'xPosition']"
      ]
     },
     "execution_count": 20,
     "metadata": {},
     "output_type": "execute_result"
    }
   ],
   "source": [
    "dir(f)"
   ]
  },
  {
   "cell_type": "code",
   "execution_count": 22,
   "metadata": {},
   "outputs": [
    {
     "data": {
      "text/plain": [
       "698.456462866008"
      ]
     },
     "execution_count": 22,
     "metadata": {},
     "output_type": "execute_result"
    }
   ],
   "source": [
    "f.pitch.frequency\n",
    "\n"
   ]
  },
  {
   "cell_type": "code",
   "execution_count": 23,
   "metadata": {},
   "outputs": [
    {
     "data": {
      "text/plain": [
       "'5'"
      ]
     },
     "execution_count": 23,
     "metadata": {},
     "output_type": "execute_result"
    }
   ],
   "source": [
    "f.pitch.pitchClassString"
   ]
  },
  {
   "cell_type": "code",
   "execution_count": 26,
   "metadata": {
    "collapsed": true
   },
   "outputs": [],
   "source": [
    "b = note.Note(\"b-2\")"
   ]
  },
  {
   "cell_type": "code",
   "execution_count": 27,
   "metadata": {},
   "outputs": [
    {
     "data": {
      "text/plain": [
       "<accidental flat>"
      ]
     },
     "execution_count": 27,
     "metadata": {},
     "output_type": "execute_result"
    }
   ],
   "source": [
    "b.pitch.accidental"
   ]
  },
  {
   "cell_type": "code",
   "execution_count": 28,
   "metadata": {},
   "outputs": [
    {
     "data": {
      "image/png": "[encoded data removed]",
      "text/plain": [
       "<music21.ipython21.objects.IPythonPNGObject at 0x10938ddd8>"
      ]
     },
     "execution_count": 28,
     "metadata": {},
     "output_type": "execute_result"
    }
   ],
   "source": [
    "f.show()"
   ]
  },
  {
   "cell_type": "code",
   "execution_count": 29,
   "metadata": {},
   "outputs": [
    {
     "data": {
      "text/html": [
       "\n",
       "                <div id='midiPlayerDiv2270'></div>\n",
       "                <link rel=\"stylesheet\" href=\"http://artusi.xyz/music21j/css/m21.css\" \n",
       "                    type=\"text/css\" />\n",
       "                <script>\n",
       "                require.config({\n",
       "                    paths: {'music21': 'http://artusi.xyz/music21j/src/music21'} \n",
       "                }); \n",
       "                require(['music21'], function() { \n",
       "                               mp = new music21.miditools.MidiPlayer();\n",
       "                               mp.addPlayer('#midiPlayerDiv2270'); \n",
       "                               mp.base64Load('data:audio/midi;base64,TVRoZAAAAAYAAQABBABNVHJrAAAAFwD/AwAA4ABAiACQTVqIAIBNAIgA/y8A'); \n",
       "                        });\n",
       "                </script>"
      ],
      "text/plain": [
       "<IPython.core.display.HTML object>"
      ]
     },
     "metadata": {},
     "output_type": "display_data"
    }
   ],
   "source": [
    "f.show('midi')"
   ]
  },
  {
   "cell_type": "code",
   "execution_count": 50,
   "metadata": {},
   "outputs": [
    {
     "ename": "NameError",
     "evalue": "name 'chord_string' is not defined",
     "output_type": "error",
     "traceback": [
      "\u001b[0;31m---------------------------------------------------------------------------\u001b[0m",
      "\u001b[0;31mNameError\u001b[0m                                 Traceback (most recent call last)",
      "\u001b[0;32m<ipython-input-50-74b0a3df025f>\u001b[0m in \u001b[0;36m<module>\u001b[0;34m()\u001b[0m\n\u001b[0;32m----> 1\u001b[0;31m \u001b[0mchord_string\u001b[0m\u001b[0;34m\u001b[0m\u001b[0m\n\u001b[0m",
      "\u001b[0;31mNameError\u001b[0m: name 'chord_string' is not defined"
     ]
    }
   ],
   "source": [
    "chord_string"
   ]
  },
  {
   "cell_type": "code",
   "execution_count": 51,
   "metadata": {},
   "outputs": [
    {
     "data": {
      "text/html": [
       "\n",
       "                <div id='midiPlayerDiv6228'></div>\n",
       "                <link rel=\"stylesheet\" href=\"http://artusi.xyz/music21j/css/m21.css\" \n",
       "                    type=\"text/css\" />\n",
       "                <script>\n",
       "                require.config({\n",
       "                    paths: {'music21': 'http://artusi.xyz/music21j/src/music21'} \n",
       "                }); \n",
       "                require(['music21'], function() { \n",
       "                               mp = new music21.miditools.MidiPlayer();\n",
       "                               mp.addPlayer('#midiPlayerDiv6228'); \n",
       "                               mp.base64Load('data:audio/midi;base64,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'); \n",
       "                        });\n",
       "                </script>"
      ],
      "text/plain": [
       "<IPython.core.display.HTML object>"
      ]
     },
     "metadata": {},
     "output_type": "display_data"
    }
   ],
   "source": [
    "data.show('midi')"
   ]
  },
  {
   "cell_type": "code",
   "execution_count": 9,
   "metadata": {
    "collapsed": true
   },
   "outputs": [],
   "source": [
    "def abstract_chord(c, chord_string, key_of_song):\n",
    "\n",
    "    root_chord_pitch = key_of_song.tonic\n",
    "    chord_elements = [(pc - c.root().midi) % 12 for pc in c.normalOrder]\n",
    "\n",
    "    # chord stucture exceptions\n",
    "    if len(chord_string) > 1:\n",
    "        elementType = chord_string[1:]\n",
    "        if elementType[0] == '-':\n",
    "            elementType = chord_string[2:]\n",
    "            elementChar = chord_string[:2]\n",
    "        else:\n",
    "            elementChar = chord_string[0]\n",
    "    \n",
    "        if '/o' in elementType:\n",
    "            if elementType.count('/') == 2:\n",
    "                elementBottom = c.bass()\n",
    "                elementBottomNum = root_chord_pitch.midi - elementBottom.midi\n",
    "                while elementBottomNum < 0:\n",
    "                    elementBottomNum += 12\n",
    "                while elementBottomNum > 11:\n",
    "                    elementBottomNum -= 12\n",
    "                elementType = elementType[:(elementType[2:].find('/') + 3)] + str(elementBottomNum)\n",
    "\n",
    "        else:\n",
    "            if '/' in elementType:\n",
    "                elementBottom = c.bass()\n",
    "                elementBottomNum = root_chord_pitch.midi - elementBottom.midi\n",
    "                while elementBottomNum < 0:\n",
    "                    elementBottomNum += 12\n",
    "                while elementBottomNum > 11:\n",
    "                    elementBottomNum -= 12\n",
    "                elementType = elementType[:(elementType.find('/') + 1)] + str(elementBottomNum)\n",
    "\n",
    "    else:\n",
    "        elementChar = chord_string[0]\n",
    "\n",
    "    elementNum = note.Note(elementChar + '3').pitch.midi - root_chord_pitch.midi\n",
    "\n",
    "#     elementNum = root_chord_pitch.midi - c.root().midi\n",
    "\n",
    "    # print('element num :', elementNum)\n",
    "\n",
    "    while elementNum < 0:\n",
    "        elementNum += 12\n",
    "\n",
    "    while elementNum > 11:\n",
    "        elementNum -= 12\n",
    "\n",
    "    if elementNum == 0:\n",
    "        elementChord = 'T'\n",
    "    elif elementNum == 2:\n",
    "        elementChord = 'SD2'\n",
    "    elif elementNum == 3:\n",
    "        elementChord = 'Tb3'\n",
    "    elif elementNum == 4:\n",
    "        elementChord = 'T3'\n",
    "    elif elementNum == 5:\n",
    "        elementChord = 'SD'\n",
    "    elif elementNum == 7:\n",
    "        elementChord = 'D'\n",
    "    elif elementNum == 9:\n",
    "        elementChord = 'T6'\n",
    "    elif elementNum == 10:\n",
    "        elementChord = 'D10'\n",
    "    elif elementNum == 11:\n",
    "        elementChord = 'D11'\n",
    "    else:\n",
    "        elementChord = 'X' + str(elementNum)\n",
    "    \n",
    "    elementType = ''\n",
    "\n",
    "    for element in chord_elements[:-1]:\n",
    "        elementType += str(element) + ','\n",
    "    elementType += str(chord_elements[-1])\n",
    "\n",
    "#     chord_info = \"%s_%s_%.3f\" % (elementChord, elementType, c.quarterLength)\n",
    "    chord_info = \"%s_%s_%.3f\" % (elementChord, elementType, c.quarterLength)\n",
    "\n",
    "    return chord_info\n",
    "\n",
    "\n"
   ]
  },
  {
   "cell_type": "code",
   "execution_count": 30,
   "metadata": {
    "collapsed": true
   },
   "outputs": [],
   "source": [
    "filename = 'ex.mid'\n",
    "\n",
    "melody_track_index = 0\n",
    "chord_track_index = 1\n",
    "\n",
    "data = converter.parse(filename)\n",
    "\n",
    "# if len(data) < 2:\n",
    "#     return 'Track number error', None, None, None, None, None\n"
   ]
  },
  {
   "cell_type": "code",
   "execution_count": 36,
   "metadata": {},
   "outputs": [
    {
     "data": {
      "text/plain": [
       "<music21.stream.Part 0x1093f2860>"
      ]
     },
     "execution_count": 36,
     "metadata": {},
     "output_type": "execute_result"
    }
   ],
   "source": [
    "data[0]"
   ]
  },
  {
   "cell_type": "code",
   "execution_count": 37,
   "metadata": {
    "collapsed": true
   },
   "outputs": [],
   "source": [
    "melody_voice = data[melody_track_index]\n",
    "chord_voice = data[chord_track_index]"
   ]
  },
  {
   "cell_type": "code",
   "execution_count": 40,
   "metadata": {
    "collapsed": true
   },
   "outputs": [],
   "source": [
    "time_signature = chord_voice.getElementsByClass(meter.TimeSignature)[0]\n",
    "\n",
    "ts = time_signature.ratioString\n",
    "\n",
    "beats_per_measure = 4.0 # default value\n",
    "\n",
    "if ts == '4/4':\n",
    "    beats_per_measure = 4.0\n",
    "elif ts == '3/4':\n",
    "    beats_per_measure = 3.0\n",
    "elif ts == '6/8':\n",
    "    beats_per_measure = 3.0\n",
    "\n",
    "\n"
   ]
  },
  {
   "cell_type": "code",
   "execution_count": 58,
   "metadata": {},
   "outputs": [
    {
     "data": {
      "text/plain": [
       "<music21.duration.Duration 0.5>"
      ]
     },
     "execution_count": 58,
     "metadata": {},
     "output_type": "execute_result"
    }
   ],
   "source": [
    "melody_voice.elements[13].duration\n"
   ]
  },
  {
   "cell_type": "code",
   "execution_count": 43,
   "metadata": {
    "collapsed": true
   },
   "outputs": [],
   "source": [
    "key_of_song = data.analyze('key')"
   ]
  },
  {
   "cell_type": "code",
   "execution_count": 44,
   "metadata": {},
   "outputs": [
    {
     "data": {
      "text/plain": [
       "<music21.key.Key of C major>"
      ]
     },
     "execution_count": 44,
     "metadata": {},
     "output_type": "execute_result"
    }
   ],
   "source": [
    "key_of_song"
   ]
  },
  {
   "cell_type": "code",
   "execution_count": 47,
   "metadata": {},
   "outputs": [
    {
     "data": {
      "text/plain": [
       "(<music21.key.Key of C major>,\n",
       " <music21.meter.TimeSignature 4/4>,\n",
       " <music21.chord.Chord G3 B3 D4 F4>,\n",
       " <music21.chord.Chord G3 B3 D4 F4>,\n",
       " <music21.chord.Chord C3 E3 G3>,\n",
       " <music21.chord.Chord C3 E3 G3>,\n",
       " <music21.chord.Chord G3 B3 D4 F4>,\n",
       " <music21.chord.Chord G3 B3 D4 F4>,\n",
       " <music21.chord.Chord G3 B3 D4 F4>,\n",
       " <music21.chord.Chord C3 E3 G3>,\n",
       " <music21.chord.Chord G3 B3 D4 F4>,\n",
       " <music21.chord.Chord G3 B3 D4 F4>,\n",
       " <music21.chord.Chord C3 E3 G3>,\n",
       " <music21.chord.Chord C3 E3 G3>,\n",
       " <music21.chord.Chord G3 B3 D4 F4>,\n",
       " <music21.chord.Chord G3 B3 D4 F4>,\n",
       " <music21.chord.Chord G3 B3 D4 F4>,\n",
       " <music21.chord.Chord C3 E3 G3>,\n",
       " <music21.key.Key of C major>,\n",
       " <music21.chord.Chord C3 E3 G3>,\n",
       " <music21.chord.Chord C3 E3 G3>,\n",
       " <music21.chord.Chord F3 A3 C4>,\n",
       " <music21.chord.Chord F3 A3 C4>,\n",
       " <music21.chord.Chord D3 F#3 A3>,\n",
       " <music21.chord.Chord D3 F#3 A3>,\n",
       " <music21.chord.Chord G3 B3 D4>,\n",
       " <music21.chord.Chord G3 B3 D4>,\n",
       " <music21.chord.Chord G3 B3 D4>,\n",
       " <music21.chord.Chord G3 B3 D4>,\n",
       " <music21.chord.Chord C3 E3 G3>,\n",
       " <music21.chord.Chord C3 E3 G3>,\n",
       " <music21.chord.Chord F3 A3 C4>,\n",
       " <music21.chord.Chord F3 A3 C4>,\n",
       " <music21.chord.Chord D3 F#3 A3>,\n",
       " <music21.chord.Chord D3 F#3 A3>,\n",
       " <music21.chord.Chord G3 B3 D4>,\n",
       " <music21.chord.Chord G3 B3 D4>,\n",
       " <music21.chord.Chord G3 B3 D4>,\n",
       " <music21.chord.Chord C3 E3 G3>)"
      ]
     },
     "execution_count": 47,
     "metadata": {},
     "output_type": "execute_result"
    }
   ],
   "source": [
    "chord_voice.elements"
   ]
  },
  {
   "cell_type": "code",
   "execution_count": 48,
   "metadata": {},
   "outputs": [
    {
     "name": "stdout",
     "output_type": "stream",
     "text": [
      "G7\n",
      "D_4,7,10,0_4.000\n",
      "G7\n",
      "D_4,7,10,0_4.000\n",
      "C\n",
      "T_0,4,7_4.000\n",
      "C\n",
      "T_0,4,7_4.000\n",
      "G7\n",
      "D_4,7,10,0_4.000\n",
      "G7\n",
      "D_4,7,10,0_4.000\n",
      "G7\n",
      "D_4,7,10,0_4.000\n",
      "C\n",
      "T_0,4,7_4.000\n",
      "G7\n",
      "D_4,7,10,0_4.000\n",
      "G7\n",
      "D_4,7,10,0_4.000\n",
      "C\n",
      "T_0,4,7_4.000\n",
      "C\n",
      "T_0,4,7_4.000\n",
      "G7\n",
      "D_4,7,10,0_4.000\n",
      "G7\n",
      "D_4,7,10,0_4.000\n",
      "G7\n",
      "D_4,7,10,0_4.000\n",
      "C\n",
      "T_0,4,7_4.000\n",
      "C\n",
      "T_0,4,7_4.000\n",
      "C\n",
      "T_0,4,7_4.000\n",
      "F\n",
      "SD_0,4,7_4.000\n",
      "F\n",
      "SD_0,4,7_4.000\n",
      "D\n",
      "SD2_0,4,7_4.000\n",
      "D\n",
      "SD2_0,4,7_4.000\n",
      "G\n",
      "D_0,4,7_4.000\n",
      "G\n",
      "D_0,4,7_4.000\n",
      "G\n",
      "D_0,4,7_4.000\n",
      "G\n",
      "D_0,4,7_4.000\n",
      "C\n",
      "T_0,4,7_4.000\n",
      "C\n",
      "T_0,4,7_4.000\n",
      "F\n",
      "SD_0,4,7_4.000\n",
      "F\n",
      "SD_0,4,7_4.000\n",
      "D\n",
      "SD2_0,4,7_4.000\n",
      "D\n",
      "SD2_0,4,7_4.000\n",
      "G\n",
      "D_0,4,7_4.000\n",
      "G\n",
      "D_0,4,7_4.000\n",
      "G\n",
      "D_0,4,7_4.000\n",
      "C\n",
      "T_0,4,7_4.000\n"
     ]
    }
   ],
   "source": [
    "chord_stream = stream.Voice()\n",
    "chord_string_list = []\n",
    "abstract_chord_string = ''\n",
    "\n",
    "for c in chord_voice.getElementsByClass(chord.Chord).elements:\n",
    "\n",
    "    # 1) set up chord stream for this song\n",
    "    chord_stream.append(c)\n",
    "\n",
    "    # 2) set up chord string for this song\n",
    "    # v6.2 switched to number representation \n",
    "    # a little tedious procedure to get better chord name output using music21 function\n",
    "    tmp_pitch_list = []\n",
    "    for p in c.pitches:\n",
    "        if '#' in str(p):\n",
    "            p = p.getEnharmonic()\n",
    "        tmp_pitch_list.append(p)\n",
    "    tmp_chord = chord.Chord(tmp_pitch_list)\n",
    "\n",
    "    tmp_chord = c.simplifyEnharmonics() # better results with this somehow\n",
    "\n",
    "    tmp_chord_string = harmony.chordSymbolFigureFromChord(tmp_chord, False)\n",
    "\n",
    "    if (tmp_chord_string == 'Chord Symbol Cannot Be Identified'):\n",
    "        print('Chord symbol identification error, trying pitch enharmonic :', tmp_chord)\n",
    "\n",
    "        tmp_pitch_list = []\n",
    "        for p in c.pitches:\n",
    "            if '#' in str(p):\n",
    "                p = p.getEnharmonic()\n",
    "            tmp_pitch_list.append(p)\n",
    "        tmp_chord = chord.Chord(tmp_pitch_list)\n",
    "        tmp_chord_string = harmony.chordSymbolFigureFromChord(tmp_chord, False)\n",
    "\n",
    "        if (tmp_chord_string == 'Chord Symbol Cannot Be Identified'):\n",
    "            print('pitch enharmonic not worked. :', tmp_chord)\n",
    "#             return 'Chord symbol error', None, None, None, None, None\n",
    "        else:\n",
    "            print('pitch enharmonic worked. :', tmp_chord_string, tmp_chord)\n",
    "\n",
    "    if 'add' in tmp_chord_string:\n",
    "        tmp_chord_string = tmp_chord_string.split('add', 1)[0]\n",
    "        \n",
    "    print(tmp_chord_string)\n",
    "    \n",
    "     abstract_chord_string = abstract_chord(c, tmp_chord_string, key_of_song)\n",
    "    \n",
    "    print(abstract_chord_string)\n",
    "    chord_string_list.append(abstract_chord_string)\n",
    "#     chord_string += abstract_chord_string\n",
    "\n",
    "\n"
   ]
  },
  {
   "cell_type": "code",
   "execution_count": 15,
   "metadata": {},
   "outputs": [
    {
     "data": {
      "text/plain": [
       "['D_4,7,10,0_4.000',\n",
       " 'D_4,7,10,0_4.000',\n",
       " 'T_0,4,7_4.000',\n",
       " 'T_0,4,7_4.000',\n",
       " 'D_4,7,10,0_4.000',\n",
       " 'D_4,7,10,0_4.000',\n",
       " 'D_4,7,10,0_4.000',\n",
       " 'T_0,4,7_4.000',\n",
       " 'D_4,7,10,0_4.000',\n",
       " 'D_4,7,10,0_4.000',\n",
       " 'T_0,4,7_4.000',\n",
       " 'T_0,4,7_4.000',\n",
       " 'D_4,7,10,0_4.000',\n",
       " 'D_4,7,10,0_4.000',\n",
       " 'D_4,7,10,0_4.000',\n",
       " 'T_0,4,7_4.000',\n",
       " 'T_0,4,7_4.000',\n",
       " 'T_0,4,7_4.000',\n",
       " 'SD_0,4,7_4.000',\n",
       " 'SD_0,4,7_4.000',\n",
       " 'SD2_0,4,7_4.000',\n",
       " 'SD2_0,4,7_4.000',\n",
       " 'D_0,4,7_4.000',\n",
       " 'D_0,4,7_4.000',\n",
       " 'D_0,4,7_4.000',\n",
       " 'D_0,4,7_4.000',\n",
       " 'T_0,4,7_4.000',\n",
       " 'T_0,4,7_4.000',\n",
       " 'SD_0,4,7_4.000',\n",
       " 'SD_0,4,7_4.000',\n",
       " 'SD2_0,4,7_4.000',\n",
       " 'SD2_0,4,7_4.000',\n",
       " 'D_0,4,7_4.000',\n",
       " 'D_0,4,7_4.000',\n",
       " 'D_0,4,7_4.000',\n",
       " 'T_0,4,7_4.000']"
      ]
     },
     "execution_count": 15,
     "metadata": {},
     "output_type": "execute_result"
    }
   ],
   "source": [
    "chord_string_list"
   ]
  },
  {
   "cell_type": "code",
   "execution_count": null,
   "metadata": {
    "collapsed": true
   },
   "outputs": [],
   "source": []
  }
 ],
 "metadata": {
  "kernelspec": {
   "display_name": "Python 2",
   "language": "python",
   "name": "python2"
  },
  "language_info": {
   "codemirror_mode": {
    "name": "ipython",
    "version": 2
   },
   "file_extension": ".py",
   "mimetype": "text/x-python",
   "name": "python",
   "nbconvert_exporter": "python",
   "pygments_lexer": "ipython2",
   "version": "2.7.13"
  }
 },
 "nbformat": 4,
 "nbformat_minor": 2
}
