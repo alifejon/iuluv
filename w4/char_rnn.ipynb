{
 "cells": [
  {
   "cell_type": "code",
   "execution_count": 1,
   "metadata": {
    "collapsed": true
   },
   "outputs": [],
   "source": [
    "# Lab 12 Character Sequence RNN\n",
    "import tensorflow as tf\n",
    "import numpy as np\n",
    "tf.set_random_seed(777)  # reproducibility"
   ]
  },
  {
   "cell_type": "code",
   "execution_count": 2,
   "metadata": {
    "collapsed": true
   },
   "outputs": [],
   "source": [
    "'''\n",
    "CDEFGAB 도레미파솔라시\n",
    "\n",
    "H 높은 도\n",
    "'''\n",
    "\n",
    "sample = \"GGAAGGEGGEEDGGAAGGEGEDECCCCCCEGGECGGEGGECCCGGECGGGGGECGGGGGECGGGAGHGHGEDCGEGEGAGEGECDEDGEGEGAGCAGEDECEGCEGFAAGBDFEDCEGCEGFAAGBDFEDCCEGFEDGBDCEDCEGCEGFAAGDFEDCGGAGEEFEDCACGACAGCEGGAGEDCGEEFDDCDEFGGGGEEEFDDCEGGEEEDDDDDEFEEEEEFGGEEFDDCEGGEEECDECECEDEFFEDFEFGEGEGFGAAGFAGCDEFGAAD니FGABBEFGABCCBAEBGCCDEFGABCGC\"\n",
    "idx2char = list(set(sample))  # index -> char\n",
    "char2idx = {c: i for i, c in enumerate(idx2char)}  # char -> idex"
   ]
  },
  {
   "cell_type": "code",
   "execution_count": 3,
   "metadata": {
    "collapsed": true
   },
   "outputs": [],
   "source": [
    "# hyper parameters\n",
    "dic_size = len(char2idx)  # RNN input size (one hot size)\n",
    "hidden_size = len(char2idx)  # RNN output size\n",
    "num_classes = len(char2idx)  # final output size (RNN or softmax, etc.)\n",
    "batch_size = 1  # one sample data, one batch\n",
    "sequence_length = len(sample) - 1  # number of lstm rollings (unit #)\n",
    "learning_rate = 0.1"
   ]
  },
  {
   "cell_type": "code",
   "execution_count": 4,
   "metadata": {
    "collapsed": true
   },
   "outputs": [],
   "source": [
    "sample_idx = [char2idx[c] for c in sample]  # char to index\n",
    "x_data = [sample_idx[:-1]]  # X data sample (0 ~ n-1) hello: hell\n",
    "y_data = [sample_idx[1:]]   # Y label sample (1 ~ n) hello: ello"
   ]
  },
  {
   "cell_type": "code",
   "execution_count": 5,
   "metadata": {
    "collapsed": true
   },
   "outputs": [],
   "source": [
    "X = tf.placeholder(tf.int32, [None, sequence_length])  # X data\n",
    "Y = tf.placeholder(tf.int32, [None, sequence_length])  # Y label"
   ]
  },
  {
   "cell_type": "code",
   "execution_count": 6,
   "metadata": {
    "collapsed": true
   },
   "outputs": [],
   "source": [
    "x_one_hot = tf.one_hot(X, num_classes)  # one hot: 1 -> 0 1 0 0 0 0 0 0 0 0\n",
    "cell = tf.contrib.rnn.BasicLSTMCell(\n",
    "    num_units=hidden_size, state_is_tuple=True)\n",
    "initial_state = cell.zero_state(batch_size, tf.float32)\n",
    "outputs, _states = tf.nn.dynamic_rnn(\n",
    "    cell, x_one_hot, initial_state=initial_state, dtype=tf.float32)\n"
   ]
  },
  {
   "cell_type": "code",
   "execution_count": 7,
   "metadata": {
    "collapsed": true
   },
   "outputs": [],
   "source": [
    "# FC layer\n",
    "X_for_fc = tf.reshape(outputs, [-1, hidden_size])\n",
    "outputs = tf.contrib.layers.fully_connected(outputs, num_classes, activation_fn=None)"
   ]
  },
  {
   "cell_type": "code",
   "execution_count": 8,
   "metadata": {
    "collapsed": true
   },
   "outputs": [],
   "source": [
    "# reshape out for sequence_loss\n",
    "outputs = tf.reshape(outputs, [batch_size, sequence_length, num_classes])"
   ]
  },
  {
   "cell_type": "code",
   "execution_count": 9,
   "metadata": {
    "collapsed": true
   },
   "outputs": [],
   "source": [
    "weights = tf.ones([batch_size, sequence_length])\n",
    "sequence_loss = tf.contrib.seq2seq.sequence_loss(\n",
    "    logits=outputs, targets=Y, weights=weights)\n",
    "loss = tf.reduce_mean(sequence_loss)\n",
    "train = tf.train.AdamOptimizer(learning_rate=learning_rate).minimize(loss)"
   ]
  },
  {
   "cell_type": "code",
   "execution_count": 10,
   "metadata": {
    "collapsed": true
   },
   "outputs": [],
   "source": [
    "prediction = tf.argmax(outputs, axis=2)"
   ]
  },
  {
   "cell_type": "code",
   "execution_count": 11,
   "metadata": {},
   "outputs": [
    {
     "name": "stdout",
     "output_type": "stream",
     "text": [
      "0 loss: 2.31686 Prediction: yyyyoyyyyyooooy\n",
      "1 loss: 2.19464 Prediction: yyyyyuuuuyyuyuu\n",
      "2 loss: 2.07207 Prediction: y  yuu uuy  uuu\n",
      "3 loss: 1.93251 Prediction:      u       uu\n",
      "4 loss: 1.73159 Prediction: y   ou   nt you\n",
      "5 loss: 1.46974 Prediction: y  you  ant you\n",
      "6 loss: 1.18713 Prediction: yy you  ant you\n",
      "7 loss: 0.934545 Prediction: yy you  ant you\n",
      "8 loss: 0.709512 Prediction: yf you want you\n",
      "9 loss: 0.522236 Prediction: yf you want you\n",
      "10 loss: 0.38673 Prediction: yf you want you\n",
      "11 loss: 0.293466 Prediction: if you want you\n",
      "12 loss: 0.225836 Prediction: if you want you\n",
      "13 loss: 0.173576 Prediction: if you want you\n",
      "14 loss: 0.133477 Prediction: if you want you\n",
      "15 loss: 0.103251 Prediction: if you want you\n",
      "16 loss: 0.0799468 Prediction: if you want you\n",
      "17 loss: 0.0614919 Prediction: if you want you\n",
      "18 loss: 0.0468476 Prediction: if you want you\n",
      "19 loss: 0.0355201 Prediction: if you want you\n",
      "20 loss: 0.0270508 Prediction: if you want you\n",
      "21 loss: 0.0208485 Prediction: if you want you\n",
      "22 loss: 0.0162964 Prediction: if you want you\n",
      "23 loss: 0.012895 Prediction: if you want you\n",
      "24 loss: 0.0103076 Prediction: if you want you\n",
      "25 loss: 0.00832498 Prediction: if you want you\n",
      "26 loss: 0.00681571 Prediction: if you want you\n",
      "27 loss: 0.00568569 Prediction: if you want you\n",
      "28 loss: 0.00485141 Prediction: if you want you\n",
      "29 loss: 0.00422343 Prediction: if you want you\n",
      "30 loss: 0.00371445 Prediction: if you want you\n",
      "31 loss: 0.00327376 Prediction: if you want you\n",
      "32 loss: 0.00289425 Prediction: if you want you\n",
      "33 loss: 0.00257881 Prediction: if you want you\n",
      "34 loss: 0.00232151 Prediction: if you want you\n",
      "35 loss: 0.00211096 Prediction: if you want you\n",
      "36 loss: 0.00193673 Prediction: if you want you\n",
      "37 loss: 0.00179072 Prediction: if you want you\n",
      "38 loss: 0.00166717 Prediction: if you want you\n",
      "39 loss: 0.00156172 Prediction: if you want you\n",
      "40 loss: 0.00147091 Prediction: if you want you\n",
      "41 loss: 0.0013921 Prediction: if you want you\n",
      "42 loss: 0.00132297 Prediction: if you want you\n",
      "43 loss: 0.00126169 Prediction: if you want you\n",
      "44 loss: 0.00120685 Prediction: if you want you\n",
      "45 loss: 0.0011573 Prediction: if you want you\n",
      "46 loss: 0.00111238 Prediction: if you want you\n",
      "47 loss: 0.00107134 Prediction: if you want you\n",
      "48 loss: 0.00103375 Prediction: if you want you\n",
      "49 loss: 0.000999249 Prediction: if you want you\n"
     ]
    }
   ],
   "source": [
    "with tf.Session() as sess:\n",
    "    sess.run(tf.global_variables_initializer())\n",
    "    for i in range(50):\n",
    "        l, _ = sess.run([loss, train], feed_dict={X: x_data, Y: y_data})\n",
    "        result = sess.run(prediction, feed_dict={X: x_data})\n",
    "\n",
    "        # print char using dic\n",
    "        result_str = [idx2char[c] for c in np.squeeze(result)]\n",
    "\n",
    "        print(i, \"loss:\", l, \"Prediction:\", ''.join(result_str))"
   ]
  },
  {
   "cell_type": "code",
   "execution_count": null,
   "metadata": {
    "collapsed": true
   },
   "outputs": [],
   "source": []
  }
 ],
 "metadata": {
  "kernelspec": {
   "display_name": "Python 3",
   "language": "python",
   "name": "python3"
  },
  "language_info": {
   "codemirror_mode": {
    "name": "ipython",
    "version": 3
   },
   "file_extension": ".py",
   "mimetype": "text/x-python",
   "name": "python",
   "nbconvert_exporter": "python",
   "pygments_lexer": "ipython3",
   "version": "3.6.0"
  }
 },
 "nbformat": 4,
 "nbformat_minor": 2
}
